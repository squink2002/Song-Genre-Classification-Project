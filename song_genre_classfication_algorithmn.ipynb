{
 "cells": [
  {
   "cell_type": "code",
   "execution_count": 1,
   "metadata": {},
   "outputs": [],
   "source": [
    "# Comment Type Legend:\n",
    "\n",
    "#* = highlight\n",
    "#! = alert\n",
    "#? = questions\n",
    "#TODO = task\n",
    "#// = strikethrough"
   ]
  },
  {
   "cell_type": "markdown",
   "metadata": {},
   "source": [
    "# 1. Preparing Our Dataset"
   ]
  },
  {
   "cell_type": "code",
   "execution_count": 2,
   "metadata": {},
   "outputs": [],
   "source": [
    "import pandas as pd\n",
    "\n",
    "# Read the track metadata with genre labels:\n",
    "tracks = pd.read_csv(r'C:\\Users\\sando\\OneDrive\\Escritorio\\Classify_Song_from_Audio_Data\\Datasets\\fma-rock-vs-hiphop.csv', encoding='UTF-8')\n",
    "\n",
    "#* NOTE: when reading csv files make sure to use the right encoding, \n",
    "#* the encoding can be found by opening the file with the notepad and checking the bottom right corner\n",
    "\n",
    "# Read in track metrics with the feature:\n",
    "echonest_metrics = pd.read_json(r'C:\\Users\\sando\\OneDrive\\Escritorio\\Classify_Song_from_Audio_Data\\Datasets\\echonest-metrics.json', precise_float= True)"
   ]
  },
  {
   "cell_type": "code",
   "execution_count": 3,
   "metadata": {},
   "outputs": [
    {
     "data": {
      "text/html": [
       "<div>\n",
       "<style scoped>\n",
       "    .dataframe tbody tr th:only-of-type {\n",
       "        vertical-align: middle;\n",
       "    }\n",
       "\n",
       "    .dataframe tbody tr th {\n",
       "        vertical-align: top;\n",
       "    }\n",
       "\n",
       "    .dataframe thead th {\n",
       "        text-align: right;\n",
       "    }\n",
       "</style>\n",
       "<table border=\"1\" class=\"dataframe\">\n",
       "  <thead>\n",
       "    <tr style=\"text-align: right;\">\n",
       "      <th></th>\n",
       "      <th>track_id</th>\n",
       "      <th>bit_rate</th>\n",
       "      <th>comments</th>\n",
       "      <th>composer</th>\n",
       "      <th>date_created</th>\n",
       "      <th>date_recorded</th>\n",
       "      <th>duration</th>\n",
       "      <th>favorites</th>\n",
       "      <th>genre_top</th>\n",
       "      <th>genres</th>\n",
       "      <th>...</th>\n",
       "      <th>information</th>\n",
       "      <th>interest</th>\n",
       "      <th>language_code</th>\n",
       "      <th>license</th>\n",
       "      <th>listens</th>\n",
       "      <th>lyricist</th>\n",
       "      <th>number</th>\n",
       "      <th>publisher</th>\n",
       "      <th>tags</th>\n",
       "      <th>title</th>\n",
       "    </tr>\n",
       "  </thead>\n",
       "  <tbody>\n",
       "    <tr>\n",
       "      <th>0</th>\n",
       "      <td>135</td>\n",
       "      <td>256000</td>\n",
       "      <td>1</td>\n",
       "      <td>NaN</td>\n",
       "      <td>2008-11-26 01:43:26</td>\n",
       "      <td>2008-11-26 00:00:00</td>\n",
       "      <td>837</td>\n",
       "      <td>0</td>\n",
       "      <td>Rock</td>\n",
       "      <td>[45, 58]</td>\n",
       "      <td>...</td>\n",
       "      <td>NaN</td>\n",
       "      <td>2484</td>\n",
       "      <td>en</td>\n",
       "      <td>Attribution-NonCommercial-ShareAlike 3.0 Inter...</td>\n",
       "      <td>1832</td>\n",
       "      <td>NaN</td>\n",
       "      <td>0</td>\n",
       "      <td>NaN</td>\n",
       "      <td>[]</td>\n",
       "      <td>Father's Day</td>\n",
       "    </tr>\n",
       "    <tr>\n",
       "      <th>1</th>\n",
       "      <td>136</td>\n",
       "      <td>256000</td>\n",
       "      <td>1</td>\n",
       "      <td>NaN</td>\n",
       "      <td>2008-11-26 01:43:35</td>\n",
       "      <td>2008-11-26 00:00:00</td>\n",
       "      <td>509</td>\n",
       "      <td>0</td>\n",
       "      <td>Rock</td>\n",
       "      <td>[45, 58]</td>\n",
       "      <td>...</td>\n",
       "      <td>NaN</td>\n",
       "      <td>1948</td>\n",
       "      <td>en</td>\n",
       "      <td>Attribution-NonCommercial-ShareAlike 3.0 Inter...</td>\n",
       "      <td>1498</td>\n",
       "      <td>NaN</td>\n",
       "      <td>0</td>\n",
       "      <td>NaN</td>\n",
       "      <td>[]</td>\n",
       "      <td>Peel Back The Mountain Sky</td>\n",
       "    </tr>\n",
       "    <tr>\n",
       "      <th>2</th>\n",
       "      <td>151</td>\n",
       "      <td>192000</td>\n",
       "      <td>0</td>\n",
       "      <td>NaN</td>\n",
       "      <td>2008-11-26 01:44:55</td>\n",
       "      <td>NaN</td>\n",
       "      <td>192</td>\n",
       "      <td>0</td>\n",
       "      <td>Rock</td>\n",
       "      <td>[25]</td>\n",
       "      <td>...</td>\n",
       "      <td>NaN</td>\n",
       "      <td>701</td>\n",
       "      <td>en</td>\n",
       "      <td>Attribution-NonCommercial-ShareAlike 3.0 Inter...</td>\n",
       "      <td>148</td>\n",
       "      <td>NaN</td>\n",
       "      <td>4</td>\n",
       "      <td>NaN</td>\n",
       "      <td>[]</td>\n",
       "      <td>Untitled 04</td>\n",
       "    </tr>\n",
       "    <tr>\n",
       "      <th>3</th>\n",
       "      <td>152</td>\n",
       "      <td>192000</td>\n",
       "      <td>0</td>\n",
       "      <td>NaN</td>\n",
       "      <td>2008-11-26 01:44:58</td>\n",
       "      <td>NaN</td>\n",
       "      <td>193</td>\n",
       "      <td>0</td>\n",
       "      <td>Rock</td>\n",
       "      <td>[25]</td>\n",
       "      <td>...</td>\n",
       "      <td>NaN</td>\n",
       "      <td>637</td>\n",
       "      <td>en</td>\n",
       "      <td>Attribution-NonCommercial-ShareAlike 3.0 Inter...</td>\n",
       "      <td>98</td>\n",
       "      <td>NaN</td>\n",
       "      <td>11</td>\n",
       "      <td>NaN</td>\n",
       "      <td>[]</td>\n",
       "      <td>Untitled 11</td>\n",
       "    </tr>\n",
       "    <tr>\n",
       "      <th>4</th>\n",
       "      <td>153</td>\n",
       "      <td>256000</td>\n",
       "      <td>0</td>\n",
       "      <td>Arc and Sender</td>\n",
       "      <td>2008-11-26 01:45:00</td>\n",
       "      <td>2008-11-26 00:00:00</td>\n",
       "      <td>405</td>\n",
       "      <td>5</td>\n",
       "      <td>Rock</td>\n",
       "      <td>[26]</td>\n",
       "      <td>...</td>\n",
       "      <td>NaN</td>\n",
       "      <td>354</td>\n",
       "      <td>en</td>\n",
       "      <td>Attribution-NonCommercial-NoDerivatives (aka M...</td>\n",
       "      <td>424</td>\n",
       "      <td>NaN</td>\n",
       "      <td>2</td>\n",
       "      <td>NaN</td>\n",
       "      <td>[]</td>\n",
       "      <td>Hundred-Year Flood</td>\n",
       "    </tr>\n",
       "  </tbody>\n",
       "</table>\n",
       "<p>5 rows × 21 columns</p>\n",
       "</div>"
      ],
      "text/plain": [
       "   track_id  bit_rate  comments        composer         date_created  \\\n",
       "0       135    256000         1             NaN  2008-11-26 01:43:26   \n",
       "1       136    256000         1             NaN  2008-11-26 01:43:35   \n",
       "2       151    192000         0             NaN  2008-11-26 01:44:55   \n",
       "3       152    192000         0             NaN  2008-11-26 01:44:58   \n",
       "4       153    256000         0  Arc and Sender  2008-11-26 01:45:00   \n",
       "\n",
       "         date_recorded  duration  favorites genre_top    genres  ...  \\\n",
       "0  2008-11-26 00:00:00       837          0      Rock  [45, 58]  ...   \n",
       "1  2008-11-26 00:00:00       509          0      Rock  [45, 58]  ...   \n",
       "2                  NaN       192          0      Rock      [25]  ...   \n",
       "3                  NaN       193          0      Rock      [25]  ...   \n",
       "4  2008-11-26 00:00:00       405          5      Rock      [26]  ...   \n",
       "\n",
       "  information interest  language_code  \\\n",
       "0         NaN     2484             en   \n",
       "1         NaN     1948             en   \n",
       "2         NaN      701             en   \n",
       "3         NaN      637             en   \n",
       "4         NaN      354             en   \n",
       "\n",
       "                                             license listens  lyricist number  \\\n",
       "0  Attribution-NonCommercial-ShareAlike 3.0 Inter...    1832       NaN      0   \n",
       "1  Attribution-NonCommercial-ShareAlike 3.0 Inter...    1498       NaN      0   \n",
       "2  Attribution-NonCommercial-ShareAlike 3.0 Inter...     148       NaN      4   \n",
       "3  Attribution-NonCommercial-ShareAlike 3.0 Inter...      98       NaN     11   \n",
       "4  Attribution-NonCommercial-NoDerivatives (aka M...     424       NaN      2   \n",
       "\n",
       "   publisher tags                       title  \n",
       "0        NaN   []                Father's Day  \n",
       "1        NaN   []  Peel Back The Mountain Sky  \n",
       "2        NaN   []                 Untitled 04  \n",
       "3        NaN   []                 Untitled 11  \n",
       "4        NaN   []          Hundred-Year Flood  \n",
       "\n",
       "[5 rows x 21 columns]"
      ]
     },
     "execution_count": 3,
     "metadata": {},
     "output_type": "execute_result"
    }
   ],
   "source": [
    "tracks.head()"
   ]
  },
  {
   "cell_type": "code",
   "execution_count": 4,
   "metadata": {},
   "outputs": [
    {
     "data": {
      "text/html": [
       "<div>\n",
       "<style scoped>\n",
       "    .dataframe tbody tr th:only-of-type {\n",
       "        vertical-align: middle;\n",
       "    }\n",
       "\n",
       "    .dataframe tbody tr th {\n",
       "        vertical-align: top;\n",
       "    }\n",
       "\n",
       "    .dataframe thead th {\n",
       "        text-align: right;\n",
       "    }\n",
       "</style>\n",
       "<table border=\"1\" class=\"dataframe\">\n",
       "  <thead>\n",
       "    <tr style=\"text-align: right;\">\n",
       "      <th></th>\n",
       "      <th>track_id</th>\n",
       "      <th>acousticness</th>\n",
       "      <th>danceability</th>\n",
       "      <th>energy</th>\n",
       "      <th>instrumentalness</th>\n",
       "      <th>liveness</th>\n",
       "      <th>speechiness</th>\n",
       "      <th>tempo</th>\n",
       "      <th>valence</th>\n",
       "    </tr>\n",
       "  </thead>\n",
       "  <tbody>\n",
       "    <tr>\n",
       "      <th>0</th>\n",
       "      <td>2</td>\n",
       "      <td>0.416675</td>\n",
       "      <td>0.675894</td>\n",
       "      <td>0.634476</td>\n",
       "      <td>0.010628</td>\n",
       "      <td>0.177647</td>\n",
       "      <td>0.159310</td>\n",
       "      <td>165.922</td>\n",
       "      <td>0.576661</td>\n",
       "    </tr>\n",
       "    <tr>\n",
       "      <th>1</th>\n",
       "      <td>3</td>\n",
       "      <td>0.374408</td>\n",
       "      <td>0.528643</td>\n",
       "      <td>0.817461</td>\n",
       "      <td>0.001851</td>\n",
       "      <td>0.105880</td>\n",
       "      <td>0.461818</td>\n",
       "      <td>126.957</td>\n",
       "      <td>0.269240</td>\n",
       "    </tr>\n",
       "    <tr>\n",
       "      <th>2</th>\n",
       "      <td>5</td>\n",
       "      <td>0.043567</td>\n",
       "      <td>0.745566</td>\n",
       "      <td>0.701470</td>\n",
       "      <td>0.000697</td>\n",
       "      <td>0.373143</td>\n",
       "      <td>0.124595</td>\n",
       "      <td>100.260</td>\n",
       "      <td>0.621661</td>\n",
       "    </tr>\n",
       "    <tr>\n",
       "      <th>3</th>\n",
       "      <td>10</td>\n",
       "      <td>0.951670</td>\n",
       "      <td>0.658179</td>\n",
       "      <td>0.924525</td>\n",
       "      <td>0.965427</td>\n",
       "      <td>0.115474</td>\n",
       "      <td>0.032985</td>\n",
       "      <td>111.562</td>\n",
       "      <td>0.963590</td>\n",
       "    </tr>\n",
       "    <tr>\n",
       "      <th>4</th>\n",
       "      <td>134</td>\n",
       "      <td>0.452217</td>\n",
       "      <td>0.513238</td>\n",
       "      <td>0.560410</td>\n",
       "      <td>0.019443</td>\n",
       "      <td>0.096567</td>\n",
       "      <td>0.525519</td>\n",
       "      <td>114.290</td>\n",
       "      <td>0.894072</td>\n",
       "    </tr>\n",
       "  </tbody>\n",
       "</table>\n",
       "</div>"
      ],
      "text/plain": [
       "   track_id  acousticness  danceability    energy  instrumentalness  liveness  \\\n",
       "0         2      0.416675      0.675894  0.634476          0.010628  0.177647   \n",
       "1         3      0.374408      0.528643  0.817461          0.001851  0.105880   \n",
       "2         5      0.043567      0.745566  0.701470          0.000697  0.373143   \n",
       "3        10      0.951670      0.658179  0.924525          0.965427  0.115474   \n",
       "4       134      0.452217      0.513238  0.560410          0.019443  0.096567   \n",
       "\n",
       "   speechiness    tempo   valence  \n",
       "0     0.159310  165.922  0.576661  \n",
       "1     0.461818  126.957  0.269240  \n",
       "2     0.124595  100.260  0.621661  \n",
       "3     0.032985  111.562  0.963590  \n",
       "4     0.525519  114.290  0.894072  "
      ]
     },
     "execution_count": 4,
     "metadata": {},
     "output_type": "execute_result"
    }
   ],
   "source": [
    "echonest_metrics.head()"
   ]
  },
  {
   "cell_type": "code",
   "execution_count": 5,
   "metadata": {},
   "outputs": [
    {
     "data": {
      "text/html": [
       "<div>\n",
       "<style scoped>\n",
       "    .dataframe tbody tr th:only-of-type {\n",
       "        vertical-align: middle;\n",
       "    }\n",
       "\n",
       "    .dataframe tbody tr th {\n",
       "        vertical-align: top;\n",
       "    }\n",
       "\n",
       "    .dataframe thead th {\n",
       "        text-align: right;\n",
       "    }\n",
       "</style>\n",
       "<table border=\"1\" class=\"dataframe\">\n",
       "  <thead>\n",
       "    <tr style=\"text-align: right;\">\n",
       "      <th></th>\n",
       "      <th>track_id</th>\n",
       "      <th>genre_top</th>\n",
       "      <th>acousticness</th>\n",
       "      <th>danceability</th>\n",
       "      <th>energy</th>\n",
       "      <th>instrumentalness</th>\n",
       "      <th>liveness</th>\n",
       "      <th>speechiness</th>\n",
       "      <th>tempo</th>\n",
       "      <th>valence</th>\n",
       "    </tr>\n",
       "  </thead>\n",
       "  <tbody>\n",
       "    <tr>\n",
       "      <th>0</th>\n",
       "      <td>153</td>\n",
       "      <td>Rock</td>\n",
       "      <td>0.988306</td>\n",
       "      <td>0.255661</td>\n",
       "      <td>0.979774</td>\n",
       "      <td>0.973006</td>\n",
       "      <td>0.121342</td>\n",
       "      <td>0.051740</td>\n",
       "      <td>90.241</td>\n",
       "      <td>0.034018</td>\n",
       "    </tr>\n",
       "    <tr>\n",
       "      <th>1</th>\n",
       "      <td>154</td>\n",
       "      <td>Rock</td>\n",
       "      <td>0.970135</td>\n",
       "      <td>0.352946</td>\n",
       "      <td>0.023852</td>\n",
       "      <td>0.957113</td>\n",
       "      <td>0.113261</td>\n",
       "      <td>0.032177</td>\n",
       "      <td>53.758</td>\n",
       "      <td>0.035632</td>\n",
       "    </tr>\n",
       "    <tr>\n",
       "      <th>2</th>\n",
       "      <td>155</td>\n",
       "      <td>Rock</td>\n",
       "      <td>0.981657</td>\n",
       "      <td>0.142249</td>\n",
       "      <td>0.912122</td>\n",
       "      <td>0.967294</td>\n",
       "      <td>0.363510</td>\n",
       "      <td>0.087527</td>\n",
       "      <td>91.912</td>\n",
       "      <td>0.034325</td>\n",
       "    </tr>\n",
       "    <tr>\n",
       "      <th>3</th>\n",
       "      <td>169</td>\n",
       "      <td>Rock</td>\n",
       "      <td>0.989141</td>\n",
       "      <td>0.225978</td>\n",
       "      <td>0.722835</td>\n",
       "      <td>0.263076</td>\n",
       "      <td>0.092371</td>\n",
       "      <td>0.053406</td>\n",
       "      <td>94.322</td>\n",
       "      <td>0.028347</td>\n",
       "    </tr>\n",
       "    <tr>\n",
       "      <th>4</th>\n",
       "      <td>170</td>\n",
       "      <td>Rock</td>\n",
       "      <td>0.886660</td>\n",
       "      <td>0.298518</td>\n",
       "      <td>0.744333</td>\n",
       "      <td>0.920950</td>\n",
       "      <td>0.139587</td>\n",
       "      <td>0.088781</td>\n",
       "      <td>97.880</td>\n",
       "      <td>0.073548</td>\n",
       "    </tr>\n",
       "  </tbody>\n",
       "</table>\n",
       "</div>"
      ],
      "text/plain": [
       "   track_id genre_top  acousticness  danceability    energy  instrumentalness  \\\n",
       "0       153      Rock      0.988306      0.255661  0.979774          0.973006   \n",
       "1       154      Rock      0.970135      0.352946  0.023852          0.957113   \n",
       "2       155      Rock      0.981657      0.142249  0.912122          0.967294   \n",
       "3       169      Rock      0.989141      0.225978  0.722835          0.263076   \n",
       "4       170      Rock      0.886660      0.298518  0.744333          0.920950   \n",
       "\n",
       "   liveness  speechiness   tempo   valence  \n",
       "0  0.121342     0.051740  90.241  0.034018  \n",
       "1  0.113261     0.032177  53.758  0.035632  \n",
       "2  0.363510     0.087527  91.912  0.034325  \n",
       "3  0.092371     0.053406  94.322  0.028347  \n",
       "4  0.139587     0.088781  97.880  0.073548  "
      ]
     },
     "execution_count": 5,
     "metadata": {},
     "output_type": "execute_result"
    }
   ],
   "source": [
    "# Merge the track_id and genre_top columns of tracks and echonest_metrics on track_id values\n",
    "echo_tracks = pd.merge(left= tracks[['track_id', 'genre_top']], right = echonest_metrics)\n",
    "#* Note: notice the merging technique used for only merging specific columns from one of the tables\n",
    "echo_tracks.head()"
   ]
  },
  {
   "cell_type": "code",
   "execution_count": 6,
   "metadata": {},
   "outputs": [
    {
     "name": "stdout",
     "output_type": "stream",
     "text": [
      "<class 'pandas.core.frame.DataFrame'>\n",
      "RangeIndex: 4802 entries, 0 to 4801\n",
      "Data columns (total 10 columns):\n",
      " #   Column            Non-Null Count  Dtype  \n",
      "---  ------            --------------  -----  \n",
      " 0   track_id          4802 non-null   int64  \n",
      " 1   genre_top         4802 non-null   object \n",
      " 2   acousticness      4802 non-null   float64\n",
      " 3   danceability      4802 non-null   float64\n",
      " 4   energy            4802 non-null   float64\n",
      " 5   instrumentalness  4802 non-null   float64\n",
      " 6   liveness          4802 non-null   float64\n",
      " 7   speechiness       4802 non-null   float64\n",
      " 8   tempo             4802 non-null   float64\n",
      " 9   valence           4802 non-null   float64\n",
      "dtypes: float64(8), int64(1), object(1)\n",
      "memory usage: 375.3+ KB\n"
     ]
    }
   ],
   "source": [
    "echo_tracks.info()"
   ]
  },
  {
   "cell_type": "code",
   "execution_count": 7,
   "metadata": {},
   "outputs": [
    {
     "data": {
      "text/plain": [
       "0          Rock\n",
       "1          Rock\n",
       "2          Rock\n",
       "3          Rock\n",
       "4          Rock\n",
       "         ...   \n",
       "4797    Hip-Hop\n",
       "4798    Hip-Hop\n",
       "4799    Hip-Hop\n",
       "4800    Hip-Hop\n",
       "4801    Hip-Hop\n",
       "Name: genre_top, Length: 4802, dtype: object"
      ]
     },
     "execution_count": 7,
     "metadata": {},
     "output_type": "execute_result"
    }
   ],
   "source": [
    "echo_tracks['genre_top']"
   ]
  },
  {
   "cell_type": "code",
   "execution_count": 8,
   "metadata": {},
   "outputs": [
    {
     "data": {
      "text/plain": [
       "0          153\n",
       "1          154\n",
       "2          155\n",
       "3          169\n",
       "4          170\n",
       "         ...  \n",
       "4797    124718\n",
       "4798    124719\n",
       "4799    124720\n",
       "4800    124721\n",
       "4801    124722\n",
       "Name: track_id, Length: 4802, dtype: int64"
      ]
     },
     "execution_count": 8,
     "metadata": {},
     "output_type": "execute_result"
    }
   ],
   "source": [
    "echo_tracks['track_id']"
   ]
  },
  {
   "cell_type": "markdown",
   "metadata": {},
   "source": [
    "# 2. Pairwise Relationships Between Continuous Variables "
   ]
  },
  {
   "cell_type": "code",
   "execution_count": 9,
   "metadata": {},
   "outputs": [
    {
     "data": {
      "text/html": [
       "<style type=\"text/css\">\n",
       "#T_c3ac8_row0_col0, #T_c3ac8_row1_col1, #T_c3ac8_row2_col2, #T_c3ac8_row3_col3, #T_c3ac8_row4_col4, #T_c3ac8_row5_col5, #T_c3ac8_row6_col6, #T_c3ac8_row7_col7, #T_c3ac8_row8_col8 {\n",
       "  background-color: #023858;\n",
       "  color: #f1f1f1;\n",
       "}\n",
       "#T_c3ac8_row0_col1, #T_c3ac8_row1_col0, #T_c3ac8_row1_col3, #T_c3ac8_row2_col5, #T_c3ac8_row2_col7, #T_c3ac8_row4_col2, #T_c3ac8_row4_col6, #T_c3ac8_row4_col8, #T_c3ac8_row6_col4 {\n",
       "  background-color: #fff7fb;\n",
       "  color: #000000;\n",
       "}\n",
       "#T_c3ac8_row0_col2 {\n",
       "  background-color: #d2d2e7;\n",
       "  color: #000000;\n",
       "}\n",
       "#T_c3ac8_row0_col3 {\n",
       "  background-color: #b5c4df;\n",
       "  color: #000000;\n",
       "}\n",
       "#T_c3ac8_row0_col4 {\n",
       "  background-color: #f5eef6;\n",
       "  color: #000000;\n",
       "}\n",
       "#T_c3ac8_row0_col5 {\n",
       "  background-color: #e9e5f1;\n",
       "  color: #000000;\n",
       "}\n",
       "#T_c3ac8_row0_col6, #T_c3ac8_row8_col3 {\n",
       "  background-color: #d1d2e6;\n",
       "  color: #000000;\n",
       "}\n",
       "#T_c3ac8_row0_col7, #T_c3ac8_row1_col7 {\n",
       "  background-color: #e1dfed;\n",
       "  color: #000000;\n",
       "}\n",
       "#T_c3ac8_row0_col8, #T_c3ac8_row3_col6 {\n",
       "  background-color: #dedcec;\n",
       "  color: #000000;\n",
       "}\n",
       "#T_c3ac8_row1_col2 {\n",
       "  background-color: #e0dded;\n",
       "  color: #000000;\n",
       "}\n",
       "#T_c3ac8_row1_col4, #T_c3ac8_row4_col1 {\n",
       "  background-color: #97b7d7;\n",
       "  color: #000000;\n",
       "}\n",
       "#T_c3ac8_row1_col5, #T_c3ac8_row2_col4 {\n",
       "  background-color: #f3edf5;\n",
       "  color: #000000;\n",
       "}\n",
       "#T_c3ac8_row1_col6, #T_c3ac8_row6_col1 {\n",
       "  background-color: #b8c6e0;\n",
       "  color: #000000;\n",
       "}\n",
       "#T_c3ac8_row1_col8 {\n",
       "  background-color: #e2dfee;\n",
       "  color: #000000;\n",
       "}\n",
       "#T_c3ac8_row2_col0, #T_c3ac8_row5_col0, #T_c3ac8_row5_col3 {\n",
       "  background-color: #bdc8e1;\n",
       "  color: #000000;\n",
       "}\n",
       "#T_c3ac8_row2_col1, #T_c3ac8_row6_col0, #T_c3ac8_row7_col0, #T_c3ac8_row7_col1 {\n",
       "  background-color: #d0d1e6;\n",
       "  color: #000000;\n",
       "}\n",
       "#T_c3ac8_row2_col3 {\n",
       "  background-color: #fbf3f9;\n",
       "  color: #000000;\n",
       "}\n",
       "#T_c3ac8_row2_col6 {\n",
       "  background-color: #80aed2;\n",
       "  color: #f1f1f1;\n",
       "}\n",
       "#T_c3ac8_row2_col8 {\n",
       "  background-color: #529bc7;\n",
       "  color: #f1f1f1;\n",
       "}\n",
       "#T_c3ac8_row3_col0, #T_c3ac8_row7_col3 {\n",
       "  background-color: #a7bddb;\n",
       "  color: #000000;\n",
       "}\n",
       "#T_c3ac8_row3_col1 {\n",
       "  background-color: #f5eff6;\n",
       "  color: #000000;\n",
       "}\n",
       "#T_c3ac8_row3_col2, #T_c3ac8_row7_col2 {\n",
       "  background-color: #fef6fa;\n",
       "  color: #000000;\n",
       "}\n",
       "#T_c3ac8_row3_col4 {\n",
       "  background-color: #c4cbe3;\n",
       "  color: #000000;\n",
       "}\n",
       "#T_c3ac8_row3_col5, #T_c3ac8_row5_col7 {\n",
       "  background-color: #dcdaeb;\n",
       "  color: #000000;\n",
       "}\n",
       "#T_c3ac8_row3_col7 {\n",
       "  background-color: #adc1dd;\n",
       "  color: #000000;\n",
       "}\n",
       "#T_c3ac8_row3_col8, #T_c3ac8_row4_col7 {\n",
       "  background-color: #d9d8ea;\n",
       "  color: #000000;\n",
       "}\n",
       "#T_c3ac8_row4_col0 {\n",
       "  background-color: #f4eef6;\n",
       "  color: #000000;\n",
       "}\n",
       "#T_c3ac8_row4_col3 {\n",
       "  background-color: #d2d3e7;\n",
       "  color: #000000;\n",
       "}\n",
       "#T_c3ac8_row4_col5 {\n",
       "  background-color: #fdf5fa;\n",
       "  color: #000000;\n",
       "}\n",
       "#T_c3ac8_row5_col1 {\n",
       "  background-color: #ced0e6;\n",
       "  color: #000000;\n",
       "}\n",
       "#T_c3ac8_row5_col2 {\n",
       "  background-color: #ede8f3;\n",
       "  color: #000000;\n",
       "}\n",
       "#T_c3ac8_row5_col4, #T_c3ac8_row6_col7 {\n",
       "  background-color: #dbdaeb;\n",
       "  color: #000000;\n",
       "}\n",
       "#T_c3ac8_row5_col6 {\n",
       "  background-color: #c0c9e2;\n",
       "  color: #000000;\n",
       "}\n",
       "#T_c3ac8_row5_col8 {\n",
       "  background-color: #e8e4f0;\n",
       "  color: #000000;\n",
       "}\n",
       "#T_c3ac8_row6_col2 {\n",
       "  background-color: #93b5d6;\n",
       "  color: #000000;\n",
       "}\n",
       "#T_c3ac8_row6_col3, #T_c3ac8_row6_col5 {\n",
       "  background-color: #eae6f1;\n",
       "  color: #000000;\n",
       "}\n",
       "#T_c3ac8_row6_col8 {\n",
       "  background-color: #bfc9e1;\n",
       "  color: #000000;\n",
       "}\n",
       "#T_c3ac8_row7_col4 {\n",
       "  background-color: #c5cce3;\n",
       "  color: #000000;\n",
       "}\n",
       "#T_c3ac8_row7_col5 {\n",
       "  background-color: #f0eaf4;\n",
       "  color: #000000;\n",
       "}\n",
       "#T_c3ac8_row7_col6 {\n",
       "  background-color: #c8cde4;\n",
       "  color: #000000;\n",
       "}\n",
       "#T_c3ac8_row7_col8 {\n",
       "  background-color: #d6d6e9;\n",
       "  color: #000000;\n",
       "}\n",
       "#T_c3ac8_row8_col0 {\n",
       "  background-color: #c6cce3;\n",
       "  color: #000000;\n",
       "}\n",
       "#T_c3ac8_row8_col1 {\n",
       "  background-color: #cdd0e5;\n",
       "  color: #000000;\n",
       "}\n",
       "#T_c3ac8_row8_col2 {\n",
       "  background-color: #4c99c5;\n",
       "  color: #f1f1f1;\n",
       "}\n",
       "#T_c3ac8_row8_col4 {\n",
       "  background-color: #efe9f3;\n",
       "  color: #000000;\n",
       "}\n",
       "#T_c3ac8_row8_col5 {\n",
       "  background-color: #f7f0f7;\n",
       "  color: #000000;\n",
       "}\n",
       "#T_c3ac8_row8_col6 {\n",
       "  background-color: #a5bddb;\n",
       "  color: #000000;\n",
       "}\n",
       "#T_c3ac8_row8_col7 {\n",
       "  background-color: #d3d4e7;\n",
       "  color: #000000;\n",
       "}\n",
       "</style>\n",
       "<table id=\"T_c3ac8\">\n",
       "  <thead>\n",
       "    <tr>\n",
       "      <th class=\"blank level0\" >&nbsp;</th>\n",
       "      <th id=\"T_c3ac8_level0_col0\" class=\"col_heading level0 col0\" >track_id</th>\n",
       "      <th id=\"T_c3ac8_level0_col1\" class=\"col_heading level0 col1\" >acousticness</th>\n",
       "      <th id=\"T_c3ac8_level0_col2\" class=\"col_heading level0 col2\" >danceability</th>\n",
       "      <th id=\"T_c3ac8_level0_col3\" class=\"col_heading level0 col3\" >energy</th>\n",
       "      <th id=\"T_c3ac8_level0_col4\" class=\"col_heading level0 col4\" >instrumentalness</th>\n",
       "      <th id=\"T_c3ac8_level0_col5\" class=\"col_heading level0 col5\" >liveness</th>\n",
       "      <th id=\"T_c3ac8_level0_col6\" class=\"col_heading level0 col6\" >speechiness</th>\n",
       "      <th id=\"T_c3ac8_level0_col7\" class=\"col_heading level0 col7\" >tempo</th>\n",
       "      <th id=\"T_c3ac8_level0_col8\" class=\"col_heading level0 col8\" >valence</th>\n",
       "    </tr>\n",
       "  </thead>\n",
       "  <tbody>\n",
       "    <tr>\n",
       "      <th id=\"T_c3ac8_level0_row0\" class=\"row_heading level0 row0\" >track_id</th>\n",
       "      <td id=\"T_c3ac8_row0_col0\" class=\"data row0 col0\" >1.000000</td>\n",
       "      <td id=\"T_c3ac8_row0_col1\" class=\"data row0 col1\" >-0.372282</td>\n",
       "      <td id=\"T_c3ac8_row0_col2\" class=\"data row0 col2\" >0.049454</td>\n",
       "      <td id=\"T_c3ac8_row0_col3\" class=\"data row0 col3\" >0.140703</td>\n",
       "      <td id=\"T_c3ac8_row0_col4\" class=\"data row0 col4\" >-0.275623</td>\n",
       "      <td id=\"T_c3ac8_row0_col5\" class=\"data row0 col5\" >0.048231</td>\n",
       "      <td id=\"T_c3ac8_row0_col6\" class=\"data row0 col6\" >-0.026995</td>\n",
       "      <td id=\"T_c3ac8_row0_col7\" class=\"data row0 col7\" >-0.025392</td>\n",
       "      <td id=\"T_c3ac8_row0_col8\" class=\"data row0 col8\" >0.010070</td>\n",
       "    </tr>\n",
       "    <tr>\n",
       "      <th id=\"T_c3ac8_level0_row1\" class=\"row_heading level0 row1\" >acousticness</th>\n",
       "      <td id=\"T_c3ac8_row1_col0\" class=\"data row1 col0\" >-0.372282</td>\n",
       "      <td id=\"T_c3ac8_row1_col1\" class=\"data row1 col1\" >1.000000</td>\n",
       "      <td id=\"T_c3ac8_row1_col2\" class=\"data row1 col2\" >-0.028954</td>\n",
       "      <td id=\"T_c3ac8_row1_col3\" class=\"data row1 col3\" >-0.281619</td>\n",
       "      <td id=\"T_c3ac8_row1_col4\" class=\"data row1 col4\" >0.194780</td>\n",
       "      <td id=\"T_c3ac8_row1_col5\" class=\"data row1 col5\" >-0.019991</td>\n",
       "      <td id=\"T_c3ac8_row1_col6\" class=\"data row1 col6\" >0.072204</td>\n",
       "      <td id=\"T_c3ac8_row1_col7\" class=\"data row1 col7\" >-0.026310</td>\n",
       "      <td id=\"T_c3ac8_row1_col8\" class=\"data row1 col8\" >-0.013841</td>\n",
       "    </tr>\n",
       "    <tr>\n",
       "      <th id=\"T_c3ac8_level0_row2\" class=\"row_heading level0 row2\" >danceability</th>\n",
       "      <td id=\"T_c3ac8_row2_col0\" class=\"data row2 col0\" >0.049454</td>\n",
       "      <td id=\"T_c3ac8_row2_col1\" class=\"data row2 col1\" >-0.028954</td>\n",
       "      <td id=\"T_c3ac8_row2_col2\" class=\"data row2 col2\" >1.000000</td>\n",
       "      <td id=\"T_c3ac8_row2_col3\" class=\"data row2 col3\" >-0.242032</td>\n",
       "      <td id=\"T_c3ac8_row2_col4\" class=\"data row2 col4\" >-0.255217</td>\n",
       "      <td id=\"T_c3ac8_row2_col5\" class=\"data row2 col5\" >-0.106584</td>\n",
       "      <td id=\"T_c3ac8_row2_col6\" class=\"data row2 col6\" >0.276206</td>\n",
       "      <td id=\"T_c3ac8_row2_col7\" class=\"data row2 col7\" >-0.242089</td>\n",
       "      <td id=\"T_c3ac8_row2_col8\" class=\"data row2 col8\" >0.473165</td>\n",
       "    </tr>\n",
       "    <tr>\n",
       "      <th id=\"T_c3ac8_level0_row3\" class=\"row_heading level0 row3\" >energy</th>\n",
       "      <td id=\"T_c3ac8_row3_col0\" class=\"data row3 col0\" >0.140703</td>\n",
       "      <td id=\"T_c3ac8_row3_col1\" class=\"data row3 col1\" >-0.281619</td>\n",
       "      <td id=\"T_c3ac8_row3_col2\" class=\"data row3 col2\" >-0.242032</td>\n",
       "      <td id=\"T_c3ac8_row3_col3\" class=\"data row3 col3\" >1.000000</td>\n",
       "      <td id=\"T_c3ac8_row3_col4\" class=\"data row3 col4\" >0.028238</td>\n",
       "      <td id=\"T_c3ac8_row3_col5\" class=\"data row3 col5\" >0.113331</td>\n",
       "      <td id=\"T_c3ac8_row3_col6\" class=\"data row3 col6\" >-0.109983</td>\n",
       "      <td id=\"T_c3ac8_row3_col7\" class=\"data row3 col7\" >0.195227</td>\n",
       "      <td id=\"T_c3ac8_row3_col8\" class=\"data row3 col8\" >0.038603</td>\n",
       "    </tr>\n",
       "    <tr>\n",
       "      <th id=\"T_c3ac8_level0_row4\" class=\"row_heading level0 row4\" >instrumentalness</th>\n",
       "      <td id=\"T_c3ac8_row4_col0\" class=\"data row4 col0\" >-0.275623</td>\n",
       "      <td id=\"T_c3ac8_row4_col1\" class=\"data row4 col1\" >0.194780</td>\n",
       "      <td id=\"T_c3ac8_row4_col2\" class=\"data row4 col2\" >-0.255217</td>\n",
       "      <td id=\"T_c3ac8_row4_col3\" class=\"data row4 col3\" >0.028238</td>\n",
       "      <td id=\"T_c3ac8_row4_col4\" class=\"data row4 col4\" >1.000000</td>\n",
       "      <td id=\"T_c3ac8_row4_col5\" class=\"data row4 col5\" >-0.091022</td>\n",
       "      <td id=\"T_c3ac8_row4_col6\" class=\"data row4 col6\" >-0.366762</td>\n",
       "      <td id=\"T_c3ac8_row4_col7\" class=\"data row4 col7\" >0.022215</td>\n",
       "      <td id=\"T_c3ac8_row4_col8\" class=\"data row4 col8\" >-0.219967</td>\n",
       "    </tr>\n",
       "    <tr>\n",
       "      <th id=\"T_c3ac8_level0_row5\" class=\"row_heading level0 row5\" >liveness</th>\n",
       "      <td id=\"T_c3ac8_row5_col0\" class=\"data row5 col0\" >0.048231</td>\n",
       "      <td id=\"T_c3ac8_row5_col1\" class=\"data row5 col1\" >-0.019991</td>\n",
       "      <td id=\"T_c3ac8_row5_col2\" class=\"data row5 col2\" >-0.106584</td>\n",
       "      <td id=\"T_c3ac8_row5_col3\" class=\"data row5 col3\" >0.113331</td>\n",
       "      <td id=\"T_c3ac8_row5_col4\" class=\"data row5 col4\" >-0.091022</td>\n",
       "      <td id=\"T_c3ac8_row5_col5\" class=\"data row5 col5\" >1.000000</td>\n",
       "      <td id=\"T_c3ac8_row5_col6\" class=\"data row5 col6\" >0.041173</td>\n",
       "      <td id=\"T_c3ac8_row5_col7\" class=\"data row5 col7\" >0.002732</td>\n",
       "      <td id=\"T_c3ac8_row5_col8\" class=\"data row5 col8\" >-0.045093</td>\n",
       "    </tr>\n",
       "    <tr>\n",
       "      <th id=\"T_c3ac8_level0_row6\" class=\"row_heading level0 row6\" >speechiness</th>\n",
       "      <td id=\"T_c3ac8_row6_col0\" class=\"data row6 col0\" >-0.026995</td>\n",
       "      <td id=\"T_c3ac8_row6_col1\" class=\"data row6 col1\" >0.072204</td>\n",
       "      <td id=\"T_c3ac8_row6_col2\" class=\"data row6 col2\" >0.276206</td>\n",
       "      <td id=\"T_c3ac8_row6_col3\" class=\"data row6 col3\" >-0.109983</td>\n",
       "      <td id=\"T_c3ac8_row6_col4\" class=\"data row6 col4\" >-0.366762</td>\n",
       "      <td id=\"T_c3ac8_row6_col5\" class=\"data row6 col5\" >0.041173</td>\n",
       "      <td id=\"T_c3ac8_row6_col6\" class=\"data row6 col6\" >1.000000</td>\n",
       "      <td id=\"T_c3ac8_row6_col7\" class=\"data row6 col7\" >0.008241</td>\n",
       "      <td id=\"T_c3ac8_row6_col8\" class=\"data row6 col8\" >0.149894</td>\n",
       "    </tr>\n",
       "    <tr>\n",
       "      <th id=\"T_c3ac8_level0_row7\" class=\"row_heading level0 row7\" >tempo</th>\n",
       "      <td id=\"T_c3ac8_row7_col0\" class=\"data row7 col0\" >-0.025392</td>\n",
       "      <td id=\"T_c3ac8_row7_col1\" class=\"data row7 col1\" >-0.026310</td>\n",
       "      <td id=\"T_c3ac8_row7_col2\" class=\"data row7 col2\" >-0.242089</td>\n",
       "      <td id=\"T_c3ac8_row7_col3\" class=\"data row7 col3\" >0.195227</td>\n",
       "      <td id=\"T_c3ac8_row7_col4\" class=\"data row7 col4\" >0.022215</td>\n",
       "      <td id=\"T_c3ac8_row7_col5\" class=\"data row7 col5\" >0.002732</td>\n",
       "      <td id=\"T_c3ac8_row7_col6\" class=\"data row7 col6\" >0.008241</td>\n",
       "      <td id=\"T_c3ac8_row7_col7\" class=\"data row7 col7\" >1.000000</td>\n",
       "      <td id=\"T_c3ac8_row7_col8\" class=\"data row7 col8\" >0.052221</td>\n",
       "    </tr>\n",
       "    <tr>\n",
       "      <th id=\"T_c3ac8_level0_row8\" class=\"row_heading level0 row8\" >valence</th>\n",
       "      <td id=\"T_c3ac8_row8_col0\" class=\"data row8 col0\" >0.010070</td>\n",
       "      <td id=\"T_c3ac8_row8_col1\" class=\"data row8 col1\" >-0.013841</td>\n",
       "      <td id=\"T_c3ac8_row8_col2\" class=\"data row8 col2\" >0.473165</td>\n",
       "      <td id=\"T_c3ac8_row8_col3\" class=\"data row8 col3\" >0.038603</td>\n",
       "      <td id=\"T_c3ac8_row8_col4\" class=\"data row8 col4\" >-0.219967</td>\n",
       "      <td id=\"T_c3ac8_row8_col5\" class=\"data row8 col5\" >-0.045093</td>\n",
       "      <td id=\"T_c3ac8_row8_col6\" class=\"data row8 col6\" >0.149894</td>\n",
       "      <td id=\"T_c3ac8_row8_col7\" class=\"data row8 col7\" >0.052221</td>\n",
       "      <td id=\"T_c3ac8_row8_col8\" class=\"data row8 col8\" >1.000000</td>\n",
       "    </tr>\n",
       "  </tbody>\n",
       "</table>\n"
      ],
      "text/plain": [
       "<pandas.io.formats.style.Styler at 0x2a0b61bb9d0>"
      ]
     },
     "execution_count": 9,
     "metadata": {},
     "output_type": "execute_result"
    }
   ],
   "source": [
    "# Create a correlation matrix\n",
    "corr_matrix = echo_tracks.drop('genre_top', axis = 'columns').corr()\n",
    "corr_matrix.style.background_gradient()\n"
   ]
  },
  {
   "cell_type": "raw",
   "metadata": {
    "vscode": {
     "languageId": "raw"
    }
   },
   "source": [
    "Notice that there is a strong correlation between 'danaceability' and 'valence'"
   ]
  },
  {
   "cell_type": "markdown",
   "metadata": {},
   "source": [
    "# 3. Normalizing the Feature Data\n",
    "\n",
    "As mentioned earlier, it can be particularly useful to simplify our models and use as few features as necessary to achieve the best result. Since we didn't find any particular strong\n",
    "correlations between our features, we can instead use a common approach to reduce the number of features called principal component analysis (PCA). It is possible that the variance \n",
    "between genres can be explained by just a few features in the dataset. PCA rotates the data along the axis of highest variance, thus allowing us to determine the relative contribution \n",
    "of each feature of our data towards the variance between classes.\n",
    "\n",
    "However, since PCA uses the absolute variance of a feature to rotate the data, a feature with a broader range of values will overpower and bias the algorithm relative to the other features. \n",
    "To avoid this, we must first normalize our data. There are a few methods to do this, but a common way is through standardization, such that all features have a mean = 0 and standard deviation = 1 (the resultant is a z-score)."
   ]
  },
  {
   "cell_type": "code",
   "execution_count": 10,
   "metadata": {},
   "outputs": [],
   "source": [
    "# Define our features:\n",
    "features = echo_tracks.drop(['genre_top', 'track_id'], axis = 1)\n",
    "#* 'genre_top' gets dropped because this is our target variable\n",
    "#* 'genre_id' gets dropped because it's not really relevant to out analysis\n",
    "\n",
    "# Define our labels:\n",
    "labels = echo_tracks['genre_top']\n",
    "labels\n",
    "\n",
    "# Import the StandardScaler\n",
    "from sklearn.preprocessing import StandardScaler\n",
    "\n",
    "# Scale the features and set the values to a new variable:\n",
    "scaler = StandardScaler() \n",
    "x_train_scaled = scaler.fit_transform(features)"
   ]
  },
  {
   "cell_type": "markdown",
   "metadata": {},
   "source": [
    "# 4. Principal Component Analysis on Our Scaled Data\n",
    "Now that we have preprocessed our data, we are ready to use PCA to determine by how much we can reduce the dimensionality of our data. We can use scree-plots and cumulative explained ratio plots to find the number of components to use in further analyses.\n",
    "\n",
    "Scree-plots display the number of components against the variance explained by each component, sorted in descending order of variance. Scree-plots help us get a better sense of which components explain a sufficient amount of variance in our data. When using scree plots, an 'elbow' (a steep drop from one data point to the next) in the plot is typically used to decide on an appropriate cutoff."
   ]
  },
  {
   "cell_type": "code",
   "execution_count": 11,
   "metadata": {},
   "outputs": [
    {
     "data": {
      "text/plain": [
       "array([0.24297674, 0.18044316, 0.13650309, 0.12994089, 0.11056248,\n",
       "       0.08302245, 0.06923783, 0.04731336])"
      ]
     },
     "execution_count": 11,
     "metadata": {},
     "output_type": "execute_result"
    }
   ],
   "source": [
    "# This is to make plots appear in the notebook:\n",
    "%matplotlib inline\n",
    "\n",
    "# Import our plotting module, and PCA class\n",
    "import matplotlib.pyplot as plt\n",
    "from sklearn.decomposition import PCA\n",
    "\n",
    "# Get our explained variance ratios from PCA using all features\n",
    "pca = PCA()\n",
    "pca.fit_transform(x_train_scaled)\n",
    "exp_variance_ratio = pca.explained_variance_ratio_\n",
    "exp_variance_ratio\n",
    "\n",
    "#* Explained variance ratio is a measure of the proportion of the total variance in the original dataset that is explained by each principal component. The explained variance ratio of a principal component is equal to the ratio of its eigenvalue to the sum of the eigenvalues of all the principal components."
   ]
  },
  {
   "cell_type": "code",
   "execution_count": 12,
   "metadata": {},
   "outputs": [],
   "source": [
    "#TODO: How is exp_variance_ration calculated? "
   ]
  },
  {
   "cell_type": "code",
   "execution_count": 13,
   "metadata": {},
   "outputs": [
    {
     "data": {
      "image/png": "[encoded data removed]",
      "text/plain": [
       "<Figure size 640x480 with 1 Axes>"
      ]
     },
     "metadata": {},
     "output_type": "display_data"
    }
   ],
   "source": [
    "# Plot the explained variance using a barplot\n",
    "\n",
    "fig, ax = plt.subplots()\n",
    "ax.bar(range(pca.n_components_),exp_variance_ratio)\n",
    "ax.set_xlabel('Principal Component #')\n",
    "ax.set_ylabel('Exp;ained Variance Ratio')\n",
    "plt.show()"
   ]
  },
  {
   "cell_type": "markdown",
   "metadata": {},
   "source": [
    "# 5. Further Visualization of PCA\n",
    "Unfortunately, there does not appear to be a clear elbow in this scree plot, which means it is not straightforward to find the number of intrinsic dimensions using this method.\n",
    "\n",
    "But all is not lost! Instead, we can also look at the cumulative explained variance plot to determine how many features are required to explain, say, about 90% of the variance (cutoffs are somewhat arbitrary here, and usually decided upon by 'rules of thumb'). Once we determine the appropriate number of components, we can perform PCA with that many components, ideally reducing the dimensionality of our data."
   ]
  },
  {
   "cell_type": "code",
   "execution_count": 14,
   "metadata": {},
   "outputs": [
    {
     "data": {
      "text/plain": [
       "array([0.24297674, 0.4234199 , 0.55992299, 0.68986388, 0.80042636,\n",
       "       0.88344881, 0.95268664, 1.        ])"
      ]
     },
     "execution_count": 14,
     "metadata": {},
     "output_type": "execute_result"
    }
   ],
   "source": [
    "# Import numpy\n",
    "import numpy as np\n",
    "\n",
    "# Calculate the cumulative explained variance\n",
    "cum_exp_variance = np.cumsum(exp_variance_ratio)\n",
    "cum_exp_variance"
   ]
  },
  {
   "cell_type": "code",
   "execution_count": 15,
   "metadata": {},
   "outputs": [
    {
     "data": {
      "image/png": "[encoded data removed]",
      "text/plain": [
       "<Figure size 640x480 with 1 Axes>"
      ]
     },
     "metadata": {},
     "output_type": "display_data"
    }
   ],
   "source": [
    "# Plot the cumulative explained variance and draw a dashed line at 0.90:\n",
    "fig, ax = plt.subplots()\n",
    "ax.plot(range(8), cum_exp_variance)\n",
    "ax.axhline(y = 0.90, linestyle = '--')\n",
    "plt.show()"
   ]
  },
  {
   "cell_type": "code",
   "execution_count": 16,
   "metadata": {},
   "outputs": [
    {
     "data": {
      "text/plain": [
       "(4802, 7)"
      ]
     },
     "execution_count": 16,
     "metadata": {},
     "output_type": "execute_result"
    }
   ],
   "source": [
    "# Choose the desired amount of components:\n",
    "n_components = 7\n",
    "\n",
    "# Perform PCA with the chosen number of components and project data onto components\n",
    "pca = PCA(n_components, random_state = 10)\n",
    "pca.fit(x_train_scaled)\n",
    "pca_projection = pca.transform(x_train_scaled)\n",
    "#* 'pca.transform(X)' applies the learned transformation to the input data X, resulting in a lower-dimensional representation\n",
    "pca_projection\n",
    "\n",
    "pca_projection.shape\n"
   ]
  },
  {
   "cell_type": "markdown",
   "metadata": {},
   "source": [
    "# 6. Train a Decision Tree to Classify Genre\n",
    "Now we can use the lower dimensional PCA projection of the data to classify songs into genres. To do that, we first need to split our dataset into 'train' and 'test' subsets, where the 'train' subset will be used to train our model while the 'test' dataset allows for model performance validation.\n",
    "\n",
    "Here, we will be using a simple algorithm known as a decision tree. Decision trees are rule-based classifiers that take in features and follow a 'tree structure' of binary decisions to ultimately classify a data point into one of two or more categories. In addition to being easy to both use and interpret, decision trees allow us to visualize the 'logic flowchart' that the model generates from the training data.\n",
    "\n",
    "Here is an example of a decision tree that demonstrates the process by which an input image (in this case, of a shape) might be classified based on the number of sides it has and whether it is rotated."
   ]
  },
  {
   "cell_type": "code",
   "execution_count": 17,
   "metadata": {},
   "outputs": [],
   "source": [
    "# Import train_test_split function and decision tree classifier\n",
    "from sklearn.model_selection import train_test_split\n",
    "\n",
    "#1. Splitting Our Data:\n",
    "#* train_features, test_features, train_labels, test_labels = train_test_split(pca_projection, labels, stratify = labels)\n",
    "x_train, x_test, y_train, y_test = train_test_split(pca_projection, labels, stratify = labels)\n",
    "\n",
    "#* When you use the stratify argument, you pass a target array (usually your labels) that you want to use for stratification. This ensures that the proportions of classes in the training and testing sets are approximately the same as in the original dataset. \n",
    "\n",
    "#2. Training Our Decision Tree:\n",
    "from sklearn.tree import DecisionTreeClassifier\n",
    "tree = DecisionTreeClassifier(random_state = 10)\n",
    "tree.fit(x_train, y_train)\n",
    "\n",
    "#3. Predict the Labels for the Test Data:\n",
    "tree_predicted_labels = tree.predict(x_test)"
   ]
  },
  {
   "cell_type": "code",
   "execution_count": 18,
   "metadata": {},
   "outputs": [
    {
     "data": {
      "text/plain": [
       "0.8717735220649458"
      ]
     },
     "execution_count": 18,
     "metadata": {},
     "output_type": "execute_result"
    }
   ],
   "source": [
    "# Import and calculate the accuracy score\n",
    "from sklearn.metrics import accuracy_score\n",
    "#* accuracy_score(y_true, y_pred)\n",
    "accuracy_score(y_test, tree_predicted_labels)"
   ]
  },
  {
   "cell_type": "code",
   "execution_count": 19,
   "metadata": {},
   "outputs": [],
   "source": [
    "#* PCA = 5 >> Accuracy = 0.8451290591174022\n",
    "#* PCA = 7 >> Accuracy = 0.8667776852622814"
   ]
  },
  {
   "cell_type": "code",
   "execution_count": 20,
   "metadata": {},
   "outputs": [
    {
     "data": {
      "text/plain": [
       "genre_top\n",
       "Rock       3892\n",
       "Hip-Hop     910\n",
       "Name: count, dtype: int64"
      ]
     },
     "execution_count": 20,
     "metadata": {},
     "output_type": "execute_result"
    }
   ],
   "source": [
    "labels.value_counts()"
   ]
  },
  {
   "cell_type": "markdown",
   "metadata": {},
   "source": [
    "## Structure of a Confusion Matrix\n",
    "\n",
    "\n",
    "A confusion matrix is a table used to evaluate the performance of a classification model by comparing the predicted labels with the true labels. It provides a detailed breakdown of the model's performance, showing not only how many predictions were correct but also how many were incorrect and in what way.\n",
    "\n",
    "For a binary classification problem, the confusion matrix is typically a 2x2 table that looks like this:"
   ]
  },
  {
   "attachments": {
    "image.png": {
     "image/png": "[encoded data removed]"
    }
   },
   "cell_type": "markdown",
   "metadata": {},
   "source": [
    "![image.png](attachment:image.png)"
   ]
  },
  {
   "cell_type": "markdown",
   "metadata": {},
   "source": [
    "Our data is imbalanced, so here accuracy is not really a good metric. Let's look at the confusion matrix."
   ]
  },
  {
   "cell_type": "code",
   "execution_count": 21,
   "metadata": {},
   "outputs": [
    {
     "data": {
      "text/plain": [
       "array([[161,  67],\n",
       "       [ 87, 886]], dtype=int64)"
      ]
     },
     "execution_count": 21,
     "metadata": {},
     "output_type": "execute_result"
    }
   ],
   "source": [
    "from sklearn.metrics import confusion_matrix\n",
    "confusion_matrix(y_test, tree_predicted_labels)"
   ]
  },
  {
   "cell_type": "markdown",
   "metadata": {},
   "source": [
    "# 7. Compare our decision tree to a logistic regression\n",
    "Although our tree's performance is decent, it's a bad idea to immediately assume that it's therefore the perfect tool for this job -- there's always the possibility of other models that will perform even better! It's always a worthwhile idea to at least test a few other algorithms and find the one that's best for our data.\n",
    "\n",
    "Sometimes simplest is best, and so we will start by applying logistic regression. Logistic regression makes use of what's called the logistic function to calculate the odds that a given data point belongs to a given class. Once we have both models, we can compare them on a few performance metrics, such as false positive and false negative rate (or how many points are inaccurately classified)."
   ]
  },
  {
   "cell_type": "code",
   "execution_count": 22,
   "metadata": {},
   "outputs": [
    {
     "name": "stdout",
     "output_type": "stream",
     "text": [
      "Decision Tree: \n",
      "               precision    recall  f1-score   support\n",
      "\n",
      "     Hip-Hop       0.65      0.71      0.68       228\n",
      "        Rock       0.93      0.91      0.92       973\n",
      "\n",
      "    accuracy                           0.87      1201\n",
      "   macro avg       0.79      0.81      0.80      1201\n",
      "weighted avg       0.88      0.87      0.87      1201\n",
      "\n",
      "Logistic Regression: \n",
      "               precision    recall  f1-score   support\n",
      "\n",
      "     Hip-Hop       0.82      0.57      0.67       228\n",
      "        Rock       0.91      0.97      0.94       973\n",
      "\n",
      "    accuracy                           0.89      1201\n",
      "   macro avg       0.86      0.77      0.80      1201\n",
      "weighted avg       0.89      0.89      0.89      1201\n",
      "\n"
     ]
    }
   ],
   "source": [
    "# Import LogisticRegression\n",
    "from sklearn.linear_model import LogisticRegression\n",
    "\n",
    "# Train our LogisticRegression and predict labels for the test set\n",
    "logreg = LogisticRegression(random_state= 10)\n",
    "logreg.fit(x_train, y_train)\n",
    "lr_predicted_labels = logreg.predict(x_test)\n",
    "\n",
    "# Create the classfication report for both models\n",
    "from sklearn.metrics import  classification_report\n",
    "class_rep_tree = classification_report(y_test, tree_predicted_labels)\n",
    "class_rep_log = classification_report(y_test, lr_predicted_labels)\n",
    "\n",
    "print('Decision Tree: \\n', class_rep_tree)\n",
    "print('Logistic Regression: \\n', class_rep_log)"
   ]
  },
  {
   "cell_type": "markdown",
   "metadata": {},
   "source": [
    "# 8. Balance our data for greater performance\n",
    "Both our models do similarly well, boasting an average precision of 87% each. However, looking at our classification report, we can see that rock songs are fairly well classified, but hip-hop songs are disproportionately misclassified as rock songs.\n",
    "\n",
    "Why might this be the case? Well, just by looking at the number of data points we have for each class, we see that we have far more data points for the rock classification than for hip-hop, potentially skewing our model's ability to distinguish between classes. This also tells us that most of our model's accuracy is driven by its ability to classify just rock songs, which is less than ideal.\n",
    "\n",
    "To account for this, we can weight the value of a correct classification in each class inversely to the occurrence of data points for each class. Since a correct classification for \"Rock\" is not more important than a correct classification for \"Hip-Hop\" (and vice versa), we only need to account for differences in sample size of our data points when weighting our classes here, and not relative importance of each class."
   ]
  },
  {
   "cell_type": "code",
   "execution_count": 23,
   "metadata": {},
   "outputs": [
    {
     "data": {
      "text/html": [
       "<div>\n",
       "<style scoped>\n",
       "    .dataframe tbody tr th:only-of-type {\n",
       "        vertical-align: middle;\n",
       "    }\n",
       "\n",
       "    .dataframe tbody tr th {\n",
       "        vertical-align: top;\n",
       "    }\n",
       "\n",
       "    .dataframe thead th {\n",
       "        text-align: right;\n",
       "    }\n",
       "</style>\n",
       "<table border=\"1\" class=\"dataframe\">\n",
       "  <thead>\n",
       "    <tr style=\"text-align: right;\">\n",
       "      <th></th>\n",
       "      <th>track_id</th>\n",
       "      <th>genre_top</th>\n",
       "      <th>acousticness</th>\n",
       "      <th>danceability</th>\n",
       "      <th>energy</th>\n",
       "      <th>instrumentalness</th>\n",
       "      <th>liveness</th>\n",
       "      <th>speechiness</th>\n",
       "      <th>tempo</th>\n",
       "      <th>valence</th>\n",
       "    </tr>\n",
       "  </thead>\n",
       "  <tbody>\n",
       "    <tr>\n",
       "      <th>0</th>\n",
       "      <td>153</td>\n",
       "      <td>Rock</td>\n",
       "      <td>0.988306</td>\n",
       "      <td>0.255661</td>\n",
       "      <td>0.979774</td>\n",
       "      <td>0.973006</td>\n",
       "      <td>0.121342</td>\n",
       "      <td>0.051740</td>\n",
       "      <td>90.241</td>\n",
       "      <td>0.034018</td>\n",
       "    </tr>\n",
       "    <tr>\n",
       "      <th>1</th>\n",
       "      <td>154</td>\n",
       "      <td>Rock</td>\n",
       "      <td>0.970135</td>\n",
       "      <td>0.352946</td>\n",
       "      <td>0.023852</td>\n",
       "      <td>0.957113</td>\n",
       "      <td>0.113261</td>\n",
       "      <td>0.032177</td>\n",
       "      <td>53.758</td>\n",
       "      <td>0.035632</td>\n",
       "    </tr>\n",
       "    <tr>\n",
       "      <th>2</th>\n",
       "      <td>155</td>\n",
       "      <td>Rock</td>\n",
       "      <td>0.981657</td>\n",
       "      <td>0.142249</td>\n",
       "      <td>0.912122</td>\n",
       "      <td>0.967294</td>\n",
       "      <td>0.363510</td>\n",
       "      <td>0.087527</td>\n",
       "      <td>91.912</td>\n",
       "      <td>0.034325</td>\n",
       "    </tr>\n",
       "    <tr>\n",
       "      <th>3</th>\n",
       "      <td>169</td>\n",
       "      <td>Rock</td>\n",
       "      <td>0.989141</td>\n",
       "      <td>0.225978</td>\n",
       "      <td>0.722835</td>\n",
       "      <td>0.263076</td>\n",
       "      <td>0.092371</td>\n",
       "      <td>0.053406</td>\n",
       "      <td>94.322</td>\n",
       "      <td>0.028347</td>\n",
       "    </tr>\n",
       "    <tr>\n",
       "      <th>4</th>\n",
       "      <td>170</td>\n",
       "      <td>Rock</td>\n",
       "      <td>0.886660</td>\n",
       "      <td>0.298518</td>\n",
       "      <td>0.744333</td>\n",
       "      <td>0.920950</td>\n",
       "      <td>0.139587</td>\n",
       "      <td>0.088781</td>\n",
       "      <td>97.880</td>\n",
       "      <td>0.073548</td>\n",
       "    </tr>\n",
       "  </tbody>\n",
       "</table>\n",
       "</div>"
      ],
      "text/plain": [
       "   track_id genre_top  acousticness  danceability    energy  instrumentalness  \\\n",
       "0       153      Rock      0.988306      0.255661  0.979774          0.973006   \n",
       "1       154      Rock      0.970135      0.352946  0.023852          0.957113   \n",
       "2       155      Rock      0.981657      0.142249  0.912122          0.967294   \n",
       "3       169      Rock      0.989141      0.225978  0.722835          0.263076   \n",
       "4       170      Rock      0.886660      0.298518  0.744333          0.920950   \n",
       "\n",
       "   liveness  speechiness   tempo   valence  \n",
       "0  0.121342     0.051740  90.241  0.034018  \n",
       "1  0.113261     0.032177  53.758  0.035632  \n",
       "2  0.363510     0.087527  91.912  0.034325  \n",
       "3  0.092371     0.053406  94.322  0.028347  \n",
       "4  0.139587     0.088781  97.880  0.073548  "
      ]
     },
     "execution_count": 23,
     "metadata": {},
     "output_type": "execute_result"
    }
   ],
   "source": [
    "# Subset only the hip-hop tracks, and then only the rock tracks\n",
    "hop_only = echo_tracks[echo_tracks['genre_top'] == 'Hip-Hop']\n",
    "hop_only.head()\n",
    "rock_only = echo_tracks[echo_tracks['genre_top'] == 'Rock']\n",
    "rock_only.head()"
   ]
  },
  {
   "cell_type": "code",
   "execution_count": 24,
   "metadata": {},
   "outputs": [
    {
     "data": {
      "text/plain": [
       "((3892, 10), (910, 10))"
      ]
     },
     "execution_count": 24,
     "metadata": {},
     "output_type": "execute_result"
    }
   ],
   "source": [
    "rock_only.shape, hop_only.shape"
   ]
  },
  {
   "cell_type": "code",
   "execution_count": 25,
   "metadata": {},
   "outputs": [
    {
     "data": {
      "text/plain": [
       "((910, 10), (910, 10))"
      ]
     },
     "execution_count": 25,
     "metadata": {},
     "output_type": "execute_result"
    }
   ],
   "source": [
    "# Sample the rock songs to be the same number as there are hip-hop songs\n",
    "rock_only = rock_only.sample(n = hop_only.shape[0])\n",
    "rock_only.shape, hop_only.shape"
   ]
  },
  {
   "cell_type": "code",
   "execution_count": 26,
   "metadata": {},
   "outputs": [
    {
     "data": {
      "text/html": [
       "<div>\n",
       "<style scoped>\n",
       "    .dataframe tbody tr th:only-of-type {\n",
       "        vertical-align: middle;\n",
       "    }\n",
       "\n",
       "    .dataframe tbody tr th {\n",
       "        vertical-align: top;\n",
       "    }\n",
       "\n",
       "    .dataframe thead th {\n",
       "        text-align: right;\n",
       "    }\n",
       "</style>\n",
       "<table border=\"1\" class=\"dataframe\">\n",
       "  <thead>\n",
       "    <tr style=\"text-align: right;\">\n",
       "      <th></th>\n",
       "      <th>track_id</th>\n",
       "      <th>genre_top</th>\n",
       "      <th>acousticness</th>\n",
       "      <th>danceability</th>\n",
       "      <th>energy</th>\n",
       "      <th>instrumentalness</th>\n",
       "      <th>liveness</th>\n",
       "      <th>speechiness</th>\n",
       "      <th>tempo</th>\n",
       "      <th>valence</th>\n",
       "    </tr>\n",
       "  </thead>\n",
       "  <tbody>\n",
       "    <tr>\n",
       "      <th>25</th>\n",
       "      <td>305</td>\n",
       "      <td>Rock</td>\n",
       "      <td>0.764248</td>\n",
       "      <td>0.733112</td>\n",
       "      <td>0.079487</td>\n",
       "      <td>0.935461</td>\n",
       "      <td>0.111641</td>\n",
       "      <td>0.042529</td>\n",
       "      <td>108.131</td>\n",
       "      <td>0.107946</td>\n",
       "    </tr>\n",
       "    <tr>\n",
       "      <th>710</th>\n",
       "      <td>3868</td>\n",
       "      <td>Rock</td>\n",
       "      <td>0.575892</td>\n",
       "      <td>0.189795</td>\n",
       "      <td>0.923837</td>\n",
       "      <td>0.794144</td>\n",
       "      <td>0.174988</td>\n",
       "      <td>0.046474</td>\n",
       "      <td>141.898</td>\n",
       "      <td>0.181426</td>\n",
       "    </tr>\n",
       "    <tr>\n",
       "      <th>2552</th>\n",
       "      <td>36724</td>\n",
       "      <td>Rock</td>\n",
       "      <td>0.310414</td>\n",
       "      <td>0.156027</td>\n",
       "      <td>0.580893</td>\n",
       "      <td>0.855622</td>\n",
       "      <td>0.104849</td>\n",
       "      <td>0.034833</td>\n",
       "      <td>78.285</td>\n",
       "      <td>0.148798</td>\n",
       "    </tr>\n",
       "    <tr>\n",
       "      <th>3414</th>\n",
       "      <td>63773</td>\n",
       "      <td>Rock</td>\n",
       "      <td>0.210421</td>\n",
       "      <td>0.688808</td>\n",
       "      <td>0.782481</td>\n",
       "      <td>0.472171</td>\n",
       "      <td>0.153042</td>\n",
       "      <td>0.032770</td>\n",
       "      <td>113.305</td>\n",
       "      <td>0.714280</td>\n",
       "    </tr>\n",
       "    <tr>\n",
       "      <th>1008</th>\n",
       "      <td>5062</td>\n",
       "      <td>Rock</td>\n",
       "      <td>0.014747</td>\n",
       "      <td>0.244418</td>\n",
       "      <td>0.479595</td>\n",
       "      <td>0.893116</td>\n",
       "      <td>0.111902</td>\n",
       "      <td>0.034145</td>\n",
       "      <td>87.133</td>\n",
       "      <td>0.243167</td>\n",
       "    </tr>\n",
       "  </tbody>\n",
       "</table>\n",
       "</div>"
      ],
      "text/plain": [
       "      track_id genre_top  acousticness  danceability    energy  \\\n",
       "25         305      Rock      0.764248      0.733112  0.079487   \n",
       "710       3868      Rock      0.575892      0.189795  0.923837   \n",
       "2552     36724      Rock      0.310414      0.156027  0.580893   \n",
       "3414     63773      Rock      0.210421      0.688808  0.782481   \n",
       "1008      5062      Rock      0.014747      0.244418  0.479595   \n",
       "\n",
       "      instrumentalness  liveness  speechiness    tempo   valence  \n",
       "25            0.935461  0.111641     0.042529  108.131  0.107946  \n",
       "710           0.794144  0.174988     0.046474  141.898  0.181426  \n",
       "2552          0.855622  0.104849     0.034833   78.285  0.148798  \n",
       "3414          0.472171  0.153042     0.032770  113.305  0.714280  \n",
       "1008          0.893116  0.111902     0.034145   87.133  0.243167  "
      ]
     },
     "execution_count": 26,
     "metadata": {},
     "output_type": "execute_result"
    }
   ],
   "source": [
    "# Concatenate the dataframes rock_only and hop_only\n",
    "rock_hop_bal = pd.concat(objs = [rock_only, hop_only])\n",
    "rock_hop_bal.head()"
   ]
  },
  {
   "cell_type": "code",
   "execution_count": 27,
   "metadata": {},
   "outputs": [],
   "source": [
    "# The features, labels, and PCA projection are created for the balanced dataframe\n",
    "features = rock_hop_bal.drop(['track_id', 'genre_top'], axis = 1)\n",
    "labels = rock_hop_bal['genre_top']\n",
    "pca_projection = pca.fit_transform(scaler.fit_transform(features))\n",
    "\n",
    "# Redefine the train and test set with the pca_projection from the balanced data\n",
    "x_train, x_test, y_train, y_test = train_test_split(pca_projection, labels, stratify = labels, random_state = 10)\n"
   ]
  },
  {
   "cell_type": "markdown",
   "metadata": {},
   "source": [
    "# 9. Does balancing our dataset improve model bias?\n",
    "We've now balanced our dataset, but in doing so, we've removed a lot of data points that might have been crucial to training our models. Let's test to see if balancing our data improves model bias towards the \"Rock\" classification while retaining overall classification performance.\n",
    "\n",
    "Note that we have already reduced the size of our dataset and will go forward without applying any dimensionality reduction. In practice, we would consider dimensionality reduction more rigorously when dealing with vastly large datasets and when computation times become prohibitively large."
   ]
  },
  {
   "cell_type": "code",
   "execution_count": 28,
   "metadata": {},
   "outputs": [
    {
     "name": "stdout",
     "output_type": "stream",
     "text": [
      "Decision Tree: \n",
      "               precision    recall  f1-score   support\n",
      "\n",
      "     Hip-Hop       0.77      0.83      0.80       227\n",
      "        Rock       0.82      0.75      0.78       228\n",
      "\n",
      "    accuracy                           0.79       455\n",
      "   macro avg       0.79      0.79      0.79       455\n",
      "weighted avg       0.79      0.79      0.79       455\n",
      "\n",
      "Logistic Regression: \n",
      "               precision    recall  f1-score   support\n",
      "\n",
      "     Hip-Hop       0.86      0.79      0.82       227\n",
      "        Rock       0.81      0.88      0.84       228\n",
      "\n",
      "    accuracy                           0.83       455\n",
      "   macro avg       0.84      0.83      0.83       455\n",
      "weighted avg       0.84      0.83      0.83       455\n",
      "\n"
     ]
    }
   ],
   "source": [
    "\n",
    "#* General Outline:\n",
    "#* 1. Define the model object\n",
    "#* 2. Fit the model using the feature matrix for the first argument and the target vector for the second\n",
    "#*    model.fit(x_train, y_train)\n",
    "#* 3. Predict the labels using model.predict(x_test)\n",
    "#* 4. Evaluate your model\n",
    "\n",
    "# Train our decision tree on the balanced data\n",
    "tree = DecisionTreeClassifier(random_state = 10)\n",
    "tree.fit(x_train, y_train)\n",
    "tree_predicted_labels = tree.predict(x_test)\n",
    "\n",
    "# Train our LogisticRegression on the balanced data\n",
    "logreg = LogisticRegression(random_state = 10)\n",
    "logreg.fit(x_train, y_train)\n",
    "lr_predicted_labels = logreg.predict(x_test)\n",
    "\n",
    "# Compare the model\n",
    "print(\"Decision Tree: \\n\", classification_report(y_true = y_test, y_pred = tree_predicted_labels))\n",
    "print(\"Logistic Regression: \\n\", classification_report(y_true = y_test, y_pred = lr_predicted_labels))"
   ]
  },
  {
   "cell_type": "markdown",
   "metadata": {},
   "source": [
    "Success! Balancing our data has removed bias towards the more prevalent class. To get a good sense of how well our models are actually performing, we can apply what's called cross-validation (CV). This step allows us to compare models in a more rigorous fashion."
   ]
  },
  {
   "cell_type": "markdown",
   "metadata": {},
   "source": [
    "# 10. Using Cross-Validation to Evaluate Our Models\n",
    "Since the way our data is split into train and test sets can impact model performance, CV attempts to split the data multiple ways and test the model on each of the splits. Although there are many different CV methods, all with their own advantages and disadvantages, we will use what's known as K-fold CV here. K-fold first splits the data into K different, equally sized subsets. Then, it iteratively uses each subset as a test set while using the remainder of the data as train sets. Finally, we can then aggregate the results from each fold for a final model performance score."
   ]
  },
  {
   "cell_type": "code",
   "execution_count": 29,
   "metadata": {},
   "outputs": [
    {
     "name": "stdout",
     "output_type": "stream",
     "text": [
      "Decision Tree:  0.7950549450549451 Logistic Regression:  0.8543956043956044\n"
     ]
    }
   ],
   "source": [
    "from sklearn.model_selection import KFold, cross_val_score\n",
    "\n",
    "# Set up our k-fold cross-validation\n",
    "kf = KFold(n_splits= 10, shuffle= True, random_state= 10)\n",
    "\n",
    "tree = DecisionTreeClassifier(random_state= 10)\n",
    "lr = LogisticRegression(random_state= 10)\n",
    "\n",
    "# Train our models using k-fold cv\n",
    "tree_score = cross_val_score(estimator= tree, X= pca_projection, y= labels, cv= kf)\n",
    "lr_score = cross_val_score(estimator= lr, X= pca_projection, y= labels, cv= kf)\n",
    "\n",
    "# Print the mean of each array of scores\n",
    "print(\"Decision Tree: \", np.mean(tree_score),\n",
    "    \"Logistic Regression: \", np.mean(lr_score))"
   ]
  },
  {
   "cell_type": "markdown",
   "metadata": {},
   "source": [
    "We can see here that our simple Logistic Regression model performed better than the Decision tree model on the balanced Data."
   ]
  }
 ],
 "metadata": {
  "kernelspec": {
   "display_name": "Python 3",
   "language": "python",
   "name": "python3"
  },
  "language_info": {
   "codemirror_mode": {
    "name": "ipython",
    "version": 3
   },
   "file_extension": ".py",
   "mimetype": "text/x-python",
   "name": "python",
   "nbconvert_exporter": "python",
   "pygments_lexer": "ipython3",
   "version": "3.10.11"
  }
 },
 "nbformat": 4,
 "nbformat_minor": 2
}
